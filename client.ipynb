{
 "cells": [
  {
   "cell_type": "markdown",
   "metadata": {},
   "source": [
    "# This file works as a Client"
   ]
  },
  {
   "cell_type": "code",
   "execution_count": 5,
   "metadata": {},
   "outputs": [],
   "source": [
    "import requests"
   ]
  },
  {
   "cell_type": "code",
   "execution_count": 6,
   "metadata": {
    "scrolled": true
   },
   "outputs": [
    {
     "data": {
      "text/plain": [
       "'Alive!'"
      ]
     },
     "execution_count": 6,
     "metadata": {},
     "output_type": "execute_result"
    }
   ],
   "source": [
    "response = requests.get('http://127.0.0.1:5000/status')\n",
    "response.text"
   ]
  },
  {
   "cell_type": "code",
   "execution_count": 9,
   "metadata": {},
   "outputs": [
    {
     "name": "stdout",
     "output_type": "stream",
     "text": [
      "{'main_class_output': 'psoriasis', 'main_proba': '0.4154360294342041', 'second_class_output': 'cronic_dermatitis', 'second_proba': '0.28588446974754333', 'third_class_output': 'pityriasis_rubra_pilaris', 'third_proba': '0.21178196370601654'}\n"
     ]
    }
   ],
   "source": [
    "url_01 = 'http://127.0.0.1:5000/api_01'\n",
    "payload_01 = {'erythema': 0, 'scaling': 3, 'definite_borders' : 2, 'itching' : 0,\n",
    "       'koebner_phenomenon' : 2,  'polygonal_papules' : 3, 'follicular_papules' : 1,\n",
    "        'oral_mucosal_involvement': 2, 'knee_and_elbow_involvement' : 0,\n",
    "       'scalp_involvement' : 2, 'family_history' : 1, 'melanin_incontinence' : 1,\n",
    "       'eosinophils_in_the_infiltrate' : 1, 'pnl_infiltrate' : 1,\n",
    "       'fibrosis_of_the_papillary_dermis' : 1, 'exocytosis' : 1, 'acanthosis' : 2,\n",
    "       'hyperkeratosis' : 3, 'parakeratosis' : 3, 'clubbing_of_the_rete_ridges' : 1,\n",
    "       'elongation_of_the_rete_ridges' : 3,\n",
    "       'thinning_of_the_suprapapillary_epidermis' : 1, 'spongiform_pustule' : 0,\n",
    "       'munro_microabcess' : 2, 'focal_hypergranulosis' : 1,\n",
    "       'disappearance_of_the_granular_layer' : 1,\n",
    "       'vacuolisation_and_damage_of_basal_layer' : 1, 'spongiosis' : 3,\n",
    "       'saw-tooth_appearance_of_retes' : 2, 'follicular_horn_plug' : 1,\n",
    "       'perifollicular_parakeratosis' : 1, 'inflammatory_monoluclear_inflitrate' : 1,\n",
    "       'band-like_infiltrate' : 1, 'age': 9}\n",
    "headers = {'Content-Type': 'application/json'}\n",
    "\n",
    "response_01 = requests.post(url_01, json=payload_01, headers=headers)\n",
    "\n",
    "print(response_01.json())"
   ]
  },
  {
   "cell_type": "code",
   "execution_count": 7,
   "metadata": {},
   "outputs": [
    {
     "name": "stdout",
     "output_type": "stream",
     "text": [
      "{'main_class_output': 'lichen_planus', 'main_proba': '0.6149036884307861', 'second_class_output': 'pityriasis_rubra_pilaris', 'second_proba': '0.14914503693580627', 'third_class_output': 'psoriasis', 'third_proba': '0.13687506318092346'}\n"
     ]
    }
   ],
   "source": [
    "url_02 = 'http://127.0.0.1:5000/api_02'\n",
    "payload_02 = {'erythema': 0, 'scaling': 3, 'definite_borders' : 2, 'itching' : 0,\n",
    "       'koebner_phenomenon' : 2,  'polygonal_papules' : 3, 'follicular_papules' : 1,\n",
    "        'oral_mucosal_involvement': 2, 'knee_and_elbow_involvement' : 0,\n",
    "       'scalp_involvement' : 2, 'family_history' : 1,'age': 9}\n",
    "headers = {'Content-Type': 'application/json'}\n",
    "\n",
    "response_02 = requests.post(url_02, json=payload_02, headers=headers)\n",
    "\n",
    "print(response_02.json())"
   ]
  },
  {
   "cell_type": "code",
   "execution_count": 8,
   "metadata": {},
   "outputs": [
    {
     "name": "stdout",
     "output_type": "stream",
     "text": [
      "{'main_class_output': 'psoriasis', 'main_proba': '0.38808274269104004', 'second_class_output': 'pityriasis_rubra_pilaris', 'second_proba': '0.32549285888671875', 'third_class_output': 'seboreic_dermatitis', 'third_proba': '0.11296865344047546'}\n"
     ]
    }
   ],
   "source": [
    "url_03 = 'http://127.0.0.1:5000/api_03'\n",
    "payload = {'erythema': 0, 'scaling': 3, 'age': 9}\n",
    "headers = {'Content-Type': 'application/json'}\n",
    "\n",
    "response = requests.post(url_03, json=payload, headers=headers)\n",
    "\n",
    "print(response.json())"
   ]
  },
  {
   "cell_type": "code",
   "execution_count": null,
   "metadata": {},
   "outputs": [],
   "source": []
  },
  {
   "cell_type": "code",
   "execution_count": null,
   "metadata": {},
   "outputs": [],
   "source": []
  },
  {
   "cell_type": "code",
   "execution_count": null,
   "metadata": {},
   "outputs": [],
   "source": []
  },
  {
   "cell_type": "code",
   "execution_count": null,
   "metadata": {},
   "outputs": [],
   "source": []
  },
  {
   "cell_type": "code",
   "execution_count": null,
   "metadata": {},
   "outputs": [],
   "source": [
    "columns_model2 = ['erythema', 'scaling', 'definite_borders','itching',\n",
    "       'koebner_phenomenon', 'polygonal_papules', 'follicular_papules',\n",
    "        'oral_mucosal_involvement', 'knee_and_elbow_involvement',\n",
    "       'scalp_involvement', 'family_history', 'age']"
   ]
  },
  {
   "cell_type": "code",
   "execution_count": null,
   "metadata": {},
   "outputs": [],
   "source": [
    "all_columns = ['erythema', 'scaling', 'definite_borders', 'itching',\n",
    "       'koebner_phenomenon', 'polygonal_papules', 'follicular_papules',\n",
    "       'oral_mucosal_involvement', 'knee_and_elbow_involvement',\n",
    "       'scalp_involvement', 'family_history', 'melanin_incontinence',\n",
    "       'eosinophils_in_the_infiltrate', 'pnl_infiltrate',\n",
    "       'fibrosis_of_the_papillary_dermis', 'exocytosis', 'acanthosis',\n",
    "       'hyperkeratosis', 'parakeratosis', 'clubbing_of_the_rete_ridges',\n",
    "       'elongation_of_the_rete_ridges',\n",
    "       'thinning_of_the_suprapapillary_epidermis', 'spongiform_pustule',\n",
    "       'munro_microabcess', 'focal_hypergranulosis',\n",
    "       'disappearance_of_the_granular_layer',\n",
    "       'vacuolisation_and_damage_of_basal_layer', 'spongiosis',\n",
    "       'saw-tooth_appearance_of_retes', 'follicular_horn_plug',\n",
    "       'perifollicular_parakeratosis', 'inflammatory_monoluclear_inflitrate',\n",
    "       'band-like_infiltrate', 'age', 'class']"
   ]
  },
  {
   "cell_type": "code",
   "execution_count": null,
   "metadata": {},
   "outputs": [],
   "source": []
  },
  {
   "cell_type": "code",
   "execution_count": null,
   "metadata": {},
   "outputs": [],
   "source": []
  },
  {
   "cell_type": "code",
   "execution_count": null,
   "metadata": {},
   "outputs": [],
   "source": []
  }
 ],
 "metadata": {
  "kernelspec": {
   "display_name": "Python 3 (ipykernel)",
   "language": "python",
   "name": "python3"
  },
  "language_info": {
   "codemirror_mode": {
    "name": "ipython",
    "version": 3
   },
   "file_extension": ".py",
   "mimetype": "text/x-python",
   "name": "python",
   "nbconvert_exporter": "python",
   "pygments_lexer": "ipython3",
   "version": "3.10.9"
  }
 },
 "nbformat": 4,
 "nbformat_minor": 2
}
